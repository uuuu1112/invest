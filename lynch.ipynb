{
 "cells": [
  {
   "cell_type": "code",
   "execution_count": 1,
   "id": "b20fb24c",
   "metadata": {},
   "outputs": [],
   "source": [
    "from lynch import *"
   ]
  },
  {
   "cell_type": "code",
   "execution_count": 2,
   "id": "f19aa752",
   "metadata": {},
   "outputs": [
    {
     "data": {
      "text/plain": [
       "代號    名稱      \n",
       "2317  鴻海         -0.196503\n",
       "2330  台積電        -0.110858\n",
       "4938  和碩         -0.280244\n",
       "2382  廣達         -0.271405\n",
       "3231  緯創         -0.200985\n",
       "                    ...   \n",
       "4907  富宇               NaN\n",
       "6550  北極星藥業-KY    0.000000\n",
       "6198  瑞築               inf\n",
       "4712  南璋               NaN\n",
       "6547  高端疫苗       -1.000000\n",
       "Length: 1790, dtype: float64"
      ]
     },
     "execution_count": 2,
     "metadata": {},
     "output_type": "execute_result"
    }
   ],
   "source": [
    "revenueGrowth(month,monthBefore)"
   ]
  },
  {
   "cell_type": "code",
   "execution_count": null,
   "id": "9ed13d99",
   "metadata": {},
   "outputs": [],
   "source": []
  }
 ],
 "metadata": {
  "kernelspec": {
   "display_name": "Python 3 (ipykernel)",
   "language": "python",
   "name": "python3"
  },
  "language_info": {
   "codemirror_mode": {
    "name": "ipython",
    "version": 3
   },
   "file_extension": ".py",
   "mimetype": "text/x-python",
   "name": "python",
   "nbconvert_exporter": "python",
   "pygments_lexer": "ipython3",
   "version": "3.11.3"
  }
 },
 "nbformat": 4,
 "nbformat_minor": 5
}

{
 "cells": [
  {
   "cell_type": "code",
   "execution_count": 1,
   "id": "6a76809b",
   "metadata": {},
   "outputs": [],
   "source": [
    "from app.models import *\n",
    "\n",
    "pd.set_option('display.float_format', '{:.2f}'.format)\n",
    "# # 設定顯示的最大列數和最大欄數為None，這樣DataFrame的所有列和欄都能夠完整顯示\n",
    "# pd.set_option('display.max_rows', None)\n",
    "# pd.set_option('display.max_columns', None)"
   ]
  },
  {
   "cell_type": "code",
   "execution_count": 2,
   "id": "3080f25e",
   "metadata": {},
   "outputs": [],
   "source": [
    "seasonStock=SeasonStock()\n",
    "revenue=Revenue()"
   ]
  },
  {
   "cell_type": "code",
   "execution_count": 3,
   "id": "20137aa1",
   "metadata": {},
   "outputs": [],
   "source": [
    "shortGrowth=ShortGrowth(seasonStock,revenue)"
   ]
  },
  {
   "cell_type": "code",
   "execution_count": 4,
   "id": "e6e442f6",
   "metadata": {},
   "outputs": [
    {
     "data": {
      "text/html": [
       "<div>\n",
       "<style scoped>\n",
       "    .dataframe tbody tr th:only-of-type {\n",
       "        vertical-align: middle;\n",
       "    }\n",
       "\n",
       "    .dataframe tbody tr th {\n",
       "        vertical-align: top;\n",
       "    }\n",
       "\n",
       "    .dataframe thead th {\n",
       "        text-align: right;\n",
       "    }\n",
       "</style>\n",
       "<table border=\"1\" class=\"dataframe\">\n",
       "  <thead>\n",
       "    <tr style=\"text-align: right;\">\n",
       "      <th></th>\n",
       "      <th></th>\n",
       "      <th>存貨QoQ</th>\n",
       "      <th>存銷比QoQ</th>\n",
       "    </tr>\n",
       "    <tr>\n",
       "      <th>代號</th>\n",
       "      <th>名稱</th>\n",
       "      <th></th>\n",
       "      <th></th>\n",
       "    </tr>\n",
       "  </thead>\n",
       "  <tbody>\n",
       "    <tr>\n",
       "      <th>2317</th>\n",
       "      <th>鴻海</th>\n",
       "      <td>-0.07</td>\n",
       "      <td>-0.08</td>\n",
       "    </tr>\n",
       "    <tr>\n",
       "      <th>2330</th>\n",
       "      <th>台積電</th>\n",
       "      <td>0.08</td>\n",
       "      <td>-0.03</td>\n",
       "    </tr>\n",
       "    <tr>\n",
       "      <th>2542</th>\n",
       "      <th>興富發</th>\n",
       "      <td>0.02</td>\n",
       "      <td>-0.45</td>\n",
       "    </tr>\n",
       "    <tr>\n",
       "      <th>2382</th>\n",
       "      <th>廣達</th>\n",
       "      <td>-0.13</td>\n",
       "      <td>-0.22</td>\n",
       "    </tr>\n",
       "    <tr>\n",
       "      <th>3231</th>\n",
       "      <th>緯創</th>\n",
       "      <td>-0.06</td>\n",
       "      <td>-0.06</td>\n",
       "    </tr>\n",
       "    <tr>\n",
       "      <th>...</th>\n",
       "      <th>...</th>\n",
       "      <td>...</td>\n",
       "      <td>...</td>\n",
       "    </tr>\n",
       "    <tr>\n",
       "      <th>4712</th>\n",
       "      <th>南璋</th>\n",
       "      <td>NaN</td>\n",
       "      <td>NaN</td>\n",
       "    </tr>\n",
       "    <tr>\n",
       "      <th>5287</th>\n",
       "      <th>數字</th>\n",
       "      <td>NaN</td>\n",
       "      <td>NaN</td>\n",
       "    </tr>\n",
       "    <tr>\n",
       "      <th>5871</th>\n",
       "      <th>中租-KY</th>\n",
       "      <td>NaN</td>\n",
       "      <td>NaN</td>\n",
       "    </tr>\n",
       "    <tr>\n",
       "      <th>6902</th>\n",
       "      <th>走著瞧-創</th>\n",
       "      <td>NaN</td>\n",
       "      <td>NaN</td>\n",
       "    </tr>\n",
       "    <tr>\n",
       "      <th>8087</th>\n",
       "      <th>華鎂鑫</th>\n",
       "      <td>NaN</td>\n",
       "      <td>NaN</td>\n",
       "    </tr>\n",
       "  </tbody>\n",
       "</table>\n",
       "<p>1688 rows × 2 columns</p>\n",
       "</div>"
      ],
      "text/plain": [
       "            存貨QoQ  存銷比QoQ\n",
       "代號   名稱                  \n",
       "2317 鴻海     -0.07   -0.08\n",
       "2330 台積電     0.08   -0.03\n",
       "2542 興富發     0.02   -0.45\n",
       "2382 廣達     -0.13   -0.22\n",
       "3231 緯創     -0.06   -0.06\n",
       "...           ...     ...\n",
       "4712 南璋       NaN     NaN\n",
       "5287 數字       NaN     NaN\n",
       "5871 中租-KY    NaN     NaN\n",
       "6902 走著瞧-創    NaN     NaN\n",
       "8087 華鎂鑫      NaN     NaN\n",
       "\n",
       "[1688 rows x 2 columns]"
      ]
     },
     "execution_count": 4,
     "metadata": {},
     "output_type": "execute_result"
    }
   ],
   "source": [
    "shortGrowth.allGrowth()"
   ]
  }
 ],
 "metadata": {
  "kernelspec": {
   "display_name": "Python 3 (ipykernel)",
   "language": "python",
   "name": "python3"
  },
  "language_info": {
   "codemirror_mode": {
    "name": "ipython",
    "version": 3
   },
   "file_extension": ".py",
   "mimetype": "text/x-python",
   "name": "python",
   "nbconvert_exporter": "python",
   "pygments_lexer": "ipython3",
   "version": "3.11.3"
  }
 },
 "nbformat": 4,
 "nbformat_minor": 5
}

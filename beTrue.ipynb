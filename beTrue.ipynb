{
 "cells": [
  {
   "cell_type": "code",
   "execution_count": 1,
   "id": "e82ac40a",
   "metadata": {},
   "outputs": [],
   "source": [
    "from base import *"
   ]
  },
  {
   "cell_type": "code",
   "execution_count": 2,
   "id": "21874c79",
   "metadata": {},
   "outputs": [],
   "source": [
    "seasonEps=SeasonEps()"
   ]
  },
  {
   "cell_type": "code",
   "execution_count": 4,
   "id": "c570babb",
   "metadata": {},
   "outputs": [
    {
     "data": {
      "text/plain": [
       "代號    名稱   \n",
       "3008  大立光      24.64\n",
       "2603  長榮        2.38\n",
       "6669  緯穎       18.86\n",
       "2454  聯發科      10.64\n",
       "3533  嘉澤       10.96\n",
       "               ...  \n",
       "6462  神盾       -1.26\n",
       "2204  中華        2.71\n",
       "6541  泰福-KY    -5.17\n",
       "3432  台端       -0.03\n",
       "2207  和泰車       9.27\n",
       "Name: 23Q1EPS(元), Length: 1785, dtype: float64"
      ]
     },
     "execution_count": 4,
     "metadata": {},
     "output_type": "execute_result"
    }
   ],
   "source": [
    "seasonEps.seasonEpsTrans.iloc[-1]"
   ]
  },
  {
   "cell_type": "code",
   "execution_count": 3,
   "id": "bd014a55",
   "metadata": {},
   "outputs": [],
   "source": [
    "seasonRoe=SeasonRoe()\n",
    "today=Today()"
   ]
  },
  {
   "cell_type": "code",
   "execution_count": 7,
   "id": "2579e456",
   "metadata": {},
   "outputs": [
    {
     "data": {
      "text/html": [
       "<div>\n",
       "<style scoped>\n",
       "    .dataframe tbody tr th:only-of-type {\n",
       "        vertical-align: middle;\n",
       "    }\n",
       "\n",
       "    .dataframe tbody tr th {\n",
       "        vertical-align: top;\n",
       "    }\n",
       "\n",
       "    .dataframe thead tr th {\n",
       "        text-align: left;\n",
       "    }\n",
       "</style>\n",
       "<table border=\"1\" class=\"dataframe\">\n",
       "  <thead>\n",
       "    <tr>\n",
       "      <th>代號</th>\n",
       "      <th>4943</th>\n",
       "      <th>4946</th>\n",
       "      <th>4944</th>\n",
       "      <th>3095</th>\n",
       "      <th>3432</th>\n",
       "      <th>3064</th>\n",
       "      <th>6541</th>\n",
       "      <th>3018</th>\n",
       "      <th>5227</th>\n",
       "      <th>2424</th>\n",
       "      <th>...</th>\n",
       "      <th>5609</th>\n",
       "      <th>8924</th>\n",
       "      <th>3293</th>\n",
       "      <th>3443</th>\n",
       "      <th>2404</th>\n",
       "      <th>1218</th>\n",
       "      <th>6409</th>\n",
       "      <th>5274</th>\n",
       "      <th>5278</th>\n",
       "      <th>8080</th>\n",
       "    </tr>\n",
       "    <tr>\n",
       "      <th>名稱</th>\n",
       "      <th>康控-KY</th>\n",
       "      <th>辣椒</th>\n",
       "      <th>兆遠</th>\n",
       "      <th>及成</th>\n",
       "      <th>台端</th>\n",
       "      <th>泰偉</th>\n",
       "      <th>泰福-KY</th>\n",
       "      <th>隆銘綠能</th>\n",
       "      <th>立凱-KY</th>\n",
       "      <th>隴華</th>\n",
       "      <th>...</th>\n",
       "      <th>中菲行</th>\n",
       "      <th>大田</th>\n",
       "      <th>鈊象</th>\n",
       "      <th>創意</th>\n",
       "      <th>漢唐</th>\n",
       "      <th>泰山</th>\n",
       "      <th>旭隼</th>\n",
       "      <th>信驊</th>\n",
       "      <th>尚凡</th>\n",
       "      <th>永利聯合</th>\n",
       "    </tr>\n",
       "  </thead>\n",
       "  <tbody>\n",
       "    <tr>\n",
       "      <th>ROE(%)</th>\n",
       "      <td>-179.00</td>\n",
       "      <td>-153.00</td>\n",
       "      <td>-139.00</td>\n",
       "      <td>-116.00</td>\n",
       "      <td>-115.00</td>\n",
       "      <td>-112.00</td>\n",
       "      <td>-110.0</td>\n",
       "      <td>-87.20</td>\n",
       "      <td>-75.9</td>\n",
       "      <td>-75.30</td>\n",
       "      <td>...</td>\n",
       "      <td>49.30</td>\n",
       "      <td>50.2</td>\n",
       "      <td>50.30</td>\n",
       "      <td>55.30</td>\n",
       "      <td>56.9</td>\n",
       "      <td>59.30</td>\n",
       "      <td>59.80</td>\n",
       "      <td>61.50</td>\n",
       "      <td>61.60</td>\n",
       "      <td>175.00</td>\n",
       "    </tr>\n",
       "    <tr>\n",
       "      <th>EPS(元)</th>\n",
       "      <td>-11.25</td>\n",
       "      <td>-7.73</td>\n",
       "      <td>-2.88</td>\n",
       "      <td>-4.02</td>\n",
       "      <td>-17.62</td>\n",
       "      <td>-1.94</td>\n",
       "      <td>-16.3</td>\n",
       "      <td>-2.84</td>\n",
       "      <td>-5.6</td>\n",
       "      <td>-3.31</td>\n",
       "      <td>...</td>\n",
       "      <td>16.44</td>\n",
       "      <td>19.5</td>\n",
       "      <td>39.75</td>\n",
       "      <td>30.59</td>\n",
       "      <td>24.5</td>\n",
       "      <td>11.43</td>\n",
       "      <td>53.63</td>\n",
       "      <td>48.26</td>\n",
       "      <td>12.02</td>\n",
       "      <td>7.44</td>\n",
       "    </tr>\n",
       "  </tbody>\n",
       "</table>\n",
       "<p>2 rows × 1786 columns</p>\n",
       "</div>"
      ],
      "text/plain": [
       "代號        4943    4946    4944    3095    3432    3064   6541   3018  5227  \\\n",
       "名稱       康控-KY      辣椒      兆遠      及成      台端      泰偉  泰福-KY   隆銘綠能 立凱-KY   \n",
       "ROE(%) -179.00 -153.00 -139.00 -116.00 -115.00 -112.00 -110.0 -87.20 -75.9   \n",
       "EPS(元)  -11.25   -7.73   -2.88   -4.02  -17.62   -1.94  -16.3  -2.84  -5.6   \n",
       "\n",
       "代號       2424  ...   5609  8924   3293   3443  2404   1218   6409   5274  \\\n",
       "名稱         隴華  ...    中菲行    大田     鈊象     創意    漢唐     泰山     旭隼     信驊   \n",
       "ROE(%) -75.30  ...  49.30  50.2  50.30  55.30  56.9  59.30  59.80  61.50   \n",
       "EPS(元)  -3.31  ...  16.44  19.5  39.75  30.59  24.5  11.43  53.63  48.26   \n",
       "\n",
       "代號       5278    8080  \n",
       "名稱         尚凡    永利聯合  \n",
       "ROE(%)  61.60  175.00  \n",
       "EPS(元)  12.02    7.44  \n",
       "\n",
       "[2 rows x 1786 columns]"
      ]
     },
     "execution_count": 7,
     "metadata": {},
     "output_type": "execute_result"
    }
   ],
   "source": [
    "seasonRoe.seasonRoeTrans.loc[roeEpsList]"
   ]
  },
  {
   "cell_type": "code",
   "execution_count": 2,
   "id": "ee0eae53",
   "metadata": {},
   "outputs": [],
   "source": [
    "dividendRatio=DividendRatio()"
   ]
  },
  {
   "cell_type": "code",
   "execution_count": 3,
   "id": "cec0c47a",
   "metadata": {},
   "outputs": [
    {
     "data": {
      "text/plain": [
       "代號    名稱   \n",
       "4967  十銓       10000.0\n",
       "6616  特昇-KY     8226.0\n",
       "2415  錩新        6500.0\n",
       "5498  凱崴        2150.0\n",
       "4542  科嶠        1250.0\n",
       "                ...   \n",
       "2536  宏普        -312.0\n",
       "1608  華榮        -444.0\n",
       "4989  榮科        -477.0\n",
       "1219  福壽       -1752.0\n",
       "4420  光明       -1818.0\n",
       "Name: 2023分配率, Length: 1787, dtype: float64"
      ]
     },
     "execution_count": 3,
     "metadata": {},
     "output_type": "execute_result"
    }
   ],
   "source": [
    "dividendRatio.latestDividendRatio()"
   ]
  },
  {
   "cell_type": "code",
   "execution_count": 1,
   "id": "50ad2b63",
   "metadata": {},
   "outputs": [],
   "source": [
    "from growth import *"
   ]
  },
  {
   "cell_type": "code",
   "execution_count": 2,
   "id": "4c1ab798",
   "metadata": {},
   "outputs": [],
   "source": [
    "dividendRatio=DividendRatio()\n",
    "seasonRoe=SeasonRoe()"
   ]
  },
  {
   "cell_type": "code",
   "execution_count": 3,
   "id": "38806c5b",
   "metadata": {},
   "outputs": [],
   "source": [
    "innerGrowth=InnerGrowth(dividendRatio,seasonRoe)"
   ]
  },
  {
   "cell_type": "code",
   "execution_count": 4,
   "id": "60193d09",
   "metadata": {},
   "outputs": [
    {
     "data": {
      "text/plain": [
       "代號    名稱   \n",
       "4943  康控-KY   -179.00000\n",
       "4946  辣椒      -153.00000\n",
       "4944  兆遠      -139.00000\n",
       "3095  及成      -116.00000\n",
       "3432  台端      -115.00000\n",
       "                 ...    \n",
       "1218  泰山        56.35279\n",
       "6409  旭隼         8.67100\n",
       "5274  信驊        11.80800\n",
       "5278  尚凡         6.28320\n",
       "8080  永利聯合     175.00000\n",
       "Length: 1786, dtype: float64"
      ]
     },
     "execution_count": 4,
     "metadata": {},
     "output_type": "execute_result"
    }
   ],
   "source": [
    "innerGrowth.getInnerGrowth()"
   ]
  },
  {
   "cell_type": "code",
   "execution_count": null,
   "id": "bc9b1784",
   "metadata": {},
   "outputs": [],
   "source": []
  }
 ],
 "metadata": {
  "kernelspec": {
   "display_name": "Python 3 (ipykernel)",
   "language": "python",
   "name": "python3"
  },
  "language_info": {
   "codemirror_mode": {
    "name": "ipython",
    "version": 3
   },
   "file_extension": ".py",
   "mimetype": "text/x-python",
   "name": "python",
   "nbconvert_exporter": "python",
   "pygments_lexer": "ipython3",
   "version": "3.9.7"
  }
 },
 "nbformat": 4,
 "nbformat_minor": 5
}

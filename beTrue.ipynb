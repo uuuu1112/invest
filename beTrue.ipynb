{
 "cells": [
  {
   "cell_type": "code",
   "execution_count": 1,
   "id": "6a76809b",
   "metadata": {},
   "outputs": [],
   "source": [
    "from app.models import *\n",
    "\n",
    "pd.set_option('display.float_format', '{:.2f}'.format)\n",
    "# # 設定顯示的最大列數和最大欄數為None，這樣DataFrame的所有列和欄都能夠完整顯示\n",
    "# pd.set_option('display.max_rows', None)\n",
    "# pd.set_option('display.max_columns', None)"
   ]
  },
  {
   "cell_type": "code",
   "execution_count": 5,
   "id": "305f828e",
   "metadata": {},
   "outputs": [
    {
     "data": {
      "text/plain": [
       "代號    名稱   \n",
       "8080  永利聯合     0.40\n",
       "9950  萬國通      0.40\n",
       "6409  旭隼       0.11\n",
       "6204  艾華      -2.14\n",
       "3293  鈊象       0.07\n",
       "               ... \n",
       "3432  台端      -1.18\n",
       "3095  及成      -1.28\n",
       "3018  隆銘綠能    -1.29\n",
       "4946  辣椒      -1.32\n",
       "4943  康控-KY   -1.79\n",
       "Length: 1783, dtype: float64"
      ]
     },
     "execution_count": 5,
     "metadata": {},
     "output_type": "execute_result"
    }
   ],
   "source": [
    "getGrowth(\"1\",0.4)"
   ]
  },
  {
   "cell_type": "code",
   "execution_count": null,
   "id": "488e0e88",
   "metadata": {},
   "outputs": [],
   "source": []
  }
 ],
 "metadata": {
  "kernelspec": {
   "display_name": "Python 3 (ipykernel)",
   "language": "python",
   "name": "python3"
  },
  "language_info": {
   "codemirror_mode": {
    "name": "ipython",
    "version": 3
   },
   "file_extension": ".py",
   "mimetype": "text/x-python",
   "name": "python",
   "nbconvert_exporter": "python",
   "pygments_lexer": "ipython3",
   "version": "3.9.7"
  }
 },
 "nbformat": 4,
 "nbformat_minor": 5
}

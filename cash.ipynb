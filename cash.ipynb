{
 "cells": [
  {
   "cell_type": "code",
   "execution_count": 1,
   "id": "2878e4fc",
   "metadata": {},
   "outputs": [],
   "source": [
    "import pandas as pd\n"
   ]
  },
  {
   "cell_type": "code",
   "execution_count": 2,
   "id": "44192804",
   "metadata": {},
   "outputs": [],
   "source": [
    "pbr=pd.read_csv('goodinfo/pbr.csv')\n",
    "cash=pd.read_csv('goodinfo/year/cash.csv')\n",
    "dividendRatio=pd.read_csv('goodinfo/year/dividendRatio.csv')"
   ]
  },
  {
   "cell_type": "code",
   "execution_count": 27,
   "id": "4774b95c",
   "metadata": {},
   "outputs": [],
   "source": [
    "removeStr=[',','=','\"']\n",
    "keyList=['代號','名稱']\n",
    "todayPriceColumn=['成交']\n",
    "# columns_to_drop = ['排名', '成交','漲跌價','平均(億)','漲跌幅']\n",
    "# columns_to_drop = ['股價日期','市場']"
   ]
  },
  {
   "cell_type": "code",
   "execution_count": 43,
   "id": "aa4fd97a",
   "metadata": {},
   "outputs": [],
   "source": [
    "def baseDfTrans(df):\n",
    "    df=df.replace(removeStr,'',regex=True)\n",
    "    df=df.set_index(keyList)\n",
    "    \n",
    "    return df\n",
    "\n",
    "def lastNMeans(df,n=5):\n",
    "    df=baseDfTrans(df)\n",
    "    last_5_columns = df.columns[-n:]\n",
    "    average_last_5_columns=last_5_columns.mean(axis=1)\n",
    "    return average_last_5_columns\n"
   ]
  },
  {
   "cell_type": "code",
   "execution_count": 28,
   "id": "0a4642b8",
   "metadata": {},
   "outputs": [],
   "source": [
    "todayPrice=baseDfTrans(pbr)[todayPriceColumn]"
   ]
  },
  {
   "cell_type": "code",
   "execution_count": 41,
   "id": "b5339129",
   "metadata": {},
   "outputs": [
    {
     "name": "stdout",
     "output_type": "stream",
     "text": [
      "Index(['2019發放年度', '2020發放年度', '2021發放年度', '2022發放年度', '2023發放年度'], dtype='object')\n"
     ]
    }
   ],
   "source": [
    "print(lastNMeans(cash))"
   ]
  },
  {
   "cell_type": "code",
   "execution_count": 7,
   "id": "9b339acd",
   "metadata": {},
   "outputs": [
    {
     "name": "stdout",
     "output_type": "stream",
     "text": [
      "        排名       代號   名稱       成交    漲跌價   漲跌幅   EPS平均    EPS合計   股利平均  \\\n",
      "0        1  =\"2454\"  聯發科   692.00  12.00  1.76   26.85   322.10  24.25   \n",
      "1        2  =\"2603\"   長榮    96.50   0.60  0.63   11.31   135.70   7.62   \n",
      "2        3  =\"6669\"   緯穎  1945.00  75.00  4.01   44.32   265.90  25.34   \n",
      "3        4  =\"3008\"  大立光  2310.00 -95.00 -3.95  143.68  1724.00  58.93   \n",
      "4        5  =\"5274\"   信驊  2440.00  90.00  3.83   19.83   237.90  17.24   \n",
      "...    ...      ...  ...      ...    ...   ...     ...      ...    ...   \n",
      "2081  2082  =\"9934\"   成霖    13.35   0.00  0.00    0.85    10.15   0.72   \n",
      "2082  2083  =\"9945\"  潤泰新    35.55   0.35  0.99    7.86    94.37   3.09   \n",
      "2083  2084  =\"9949\"   琉園    16.20  -0.30 -1.82   -0.32    -3.87   0.21   \n",
      "2084  2085  =\"9950\"  萬國通    17.40  -0.40 -2.25   -0.68    -8.16   0.47   \n",
      "2085  2086  =\"9955\"   佳龍    23.50   0.40  1.73   -0.75    -8.94   0.02   \n",
      "\n",
      "        股利合計  ...  2014分配率  2015分配率  2016分配率  2017分配率  2018分配率  2019分配率  \\\n",
      "0     291.00  ...     73.1     73.2     66.3     62.7     64.3     67.9   \n",
      "1      91.39  ...      0.0     59.8      0.0      0.0     35.5      0.0   \n",
      "2     152.00  ...      NaN      NaN      NaN      NaN     51.7     42.1   \n",
      "3     707.20  ...     39.8     35.2     35.3     37.5     37.4     37.4   \n",
      "4     206.90  ...     87.9     84.0     74.1     85.3     95.5     89.1   \n",
      "...      ...  ...      ...      ...      ...      ...      ...      ...   \n",
      "2081    8.68  ...     15.7    114.0     84.5    -74.8     75.7     76.8   \n",
      "2082   37.11  ...     15.2     70.2      0.0     33.9     28.9     27.7   \n",
      "2083    2.55  ...    231.0   1500.0      0.0      0.0      0.0      0.0   \n",
      "2084    5.70  ...     89.6     70.0     89.7     68.2      0.0      0.0   \n",
      "2085    0.30  ...      0.0      0.0      0.0      0.0      0.0      0.0   \n",
      "\n",
      "      2020分配率  2021分配率  2022分配率  2023分配率  \n",
      "0        71.5    142.0    103.0    102.0  \n",
      "1         0.0     49.1     39.5     80.4  \n",
      "2        63.1     65.0     50.5     61.7  \n",
      "3        37.5     50.0     50.4     50.5  \n",
      "4        90.2     88.5     94.0     80.8  \n",
      "...       ...      ...      ...      ...  \n",
      "2081     63.8     61.7      0.0      0.0  \n",
      "2082     64.2     85.0     83.0      0.0  \n",
      "2083      0.0      0.0      0.0      0.0  \n",
      "2084      0.0      0.0      0.0      0.0  \n",
      "2085      0.0      0.0      0.0      0.0  \n",
      "\n",
      "[2086 rows x 23 columns]\n"
     ]
    }
   ],
   "source": [
    "print(dividendRatio)"
   ]
  },
  {
   "cell_type": "code",
   "execution_count": null,
   "id": "95bae567",
   "metadata": {},
   "outputs": [],
   "source": []
  }
 ],
 "metadata": {
  "kernelspec": {
   "display_name": "Python 3 (ipykernel)",
   "language": "python",
   "name": "python3"
  },
  "language_info": {
   "codemirror_mode": {
    "name": "ipython",
    "version": 3
   },
   "file_extension": ".py",
   "mimetype": "text/x-python",
   "name": "python",
   "nbconvert_exporter": "python",
   "pygments_lexer": "ipython3",
   "version": "3.9.7"
  }
 },
 "nbformat": 4,
 "nbformat_minor": 5
}

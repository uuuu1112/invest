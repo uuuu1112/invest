{
 "cells": [
  {
   "cell_type": "code",
   "execution_count": 1,
   "id": "966ed34e",
   "metadata": {},
   "outputs": [],
   "source": [
    "from goodinfodata import *"
   ]
  },
  {
   "cell_type": "code",
   "execution_count": 3,
   "id": "d276b7c8",
   "metadata": {},
   "outputs": [
    {
     "data": {
      "text/plain": [
       "代號    名稱 \n",
       "2454  聯發科    5\n",
       "2603  長榮     1\n",
       "6669  緯穎     4\n",
       "3008  大立光    2\n",
       "5274  信驊     5\n",
       "            ..\n",
       "9934  成霖     3\n",
       "9945  潤泰新    3\n",
       "9949  琉園     0\n",
       "9950  萬國通    0\n",
       "9955  佳龍     0\n",
       "Name: 符合個數, Length: 2086, dtype: int64"
      ]
     },
     "execution_count": 3,
     "metadata": {},
     "output_type": "execute_result"
    }
   ],
   "source": [
    "countConditionNum(dividendRatio)"
   ]
  },
  {
   "cell_type": "code",
   "execution_count": 1,
   "id": "2878e4fc",
   "metadata": {},
   "outputs": [],
   "source": [
    "import pandas as pd\n"
   ]
  },
  {
   "cell_type": "code",
   "execution_count": 2,
   "id": "44192804",
   "metadata": {},
   "outputs": [],
   "source": [
    "pbr=pd.read_csv('goodinfo/pbr.csv')\n",
    "cash=pd.read_csv('goodinfo/year/cash.csv')\n",
    "dividendRatio=pd.read_csv('goodinfo/year/dividendRatio.csv')"
   ]
  },
  {
   "cell_type": "code",
   "execution_count": 3,
   "id": "4774b95c",
   "metadata": {},
   "outputs": [],
   "source": [
    "removeStr=[',','=','\"']\n",
    "keyList=['代號','名稱']\n",
    "todayPriceColumn=['成交']\n",
    "# columns_to_drop = ['排名', '成交','漲跌價','平均(億)','漲跌幅']\n",
    "# columns_to_drop = ['股價日期','市場']"
   ]
  },
  {
   "cell_type": "code",
   "execution_count": 4,
   "id": "aa4fd97a",
   "metadata": {},
   "outputs": [],
   "source": [
    "def baseDfTrans(df):\n",
    "    df=df.replace(removeStr,'',regex=True)\n",
    "    df=df.set_index(keyList)\n",
    "    return df\n",
    "\n",
    "def lastNMeans(df,columnStr=\"近期平均\",n=5):\n",
    "    df=baseDfTrans(df)\n",
    "    df[columnStr]=df.iloc[:,-5:].mean(axis=1)\n",
    "    return df[columnStr]\n",
    "\n",
    "def countConditionNum(df,columnStr=\"符合個數\",bigger=1,compareBase=50,n=5):\n",
    "    df=baseDfTrans(df)\n",
    "    if bigger==1:\n",
    "        values_count = (df.iloc[:, -n:] > compareBase).sum(axis=1)\n",
    "    else:\n",
    "        values_count = (df.iloc[:, -n:] < compareBase).sum(axis=1)\n",
    "    df[columnStr]=values_count\n",
    "    return df[columnStr]"
   ]
  },
  {
   "cell_type": "code",
   "execution_count": 5,
   "id": "fb574cf3",
   "metadata": {},
   "outputs": [
    {
     "data": {
      "text/plain": [
       "代號    名稱 \n",
       "2454  聯發科    5\n",
       "2603  長榮     1\n",
       "6669  緯穎     4\n",
       "3008  大立光    2\n",
       "5274  信驊     5\n",
       "            ..\n",
       "9934  成霖     3\n",
       "9945  潤泰新    3\n",
       "9949  琉園     0\n",
       "9950  萬國通    0\n",
       "9955  佳龍     0\n",
       "Name: 符合個數, Length: 2086, dtype: int64"
      ]
     },
     "execution_count": 5,
     "metadata": {},
     "output_type": "execute_result"
    }
   ],
   "source": [
    "countConditionNum(dividendRatio)"
   ]
  },
  {
   "cell_type": "code",
   "execution_count": 6,
   "id": "0a4642b8",
   "metadata": {},
   "outputs": [],
   "source": [
    "todayPrice=baseDfTrans(pbr)[todayPriceColumn]"
   ]
  },
  {
   "cell_type": "code",
   "execution_count": 7,
   "id": "40e478ae",
   "metadata": {},
   "outputs": [
    {
     "data": {
      "text/html": [
       "<div>\n",
       "<style scoped>\n",
       "    .dataframe tbody tr th:only-of-type {\n",
       "        vertical-align: middle;\n",
       "    }\n",
       "\n",
       "    .dataframe tbody tr th {\n",
       "        vertical-align: top;\n",
       "    }\n",
       "\n",
       "    .dataframe thead th {\n",
       "        text-align: right;\n",
       "    }\n",
       "</style>\n",
       "<table border=\"1\" class=\"dataframe\">\n",
       "  <thead>\n",
       "    <tr style=\"text-align: right;\">\n",
       "      <th></th>\n",
       "      <th></th>\n",
       "      <th>成交</th>\n",
       "      <th>平均配息率</th>\n",
       "      <th>平均股息</th>\n",
       "      <th>符合個數</th>\n",
       "    </tr>\n",
       "    <tr>\n",
       "      <th>代號</th>\n",
       "      <th>名稱</th>\n",
       "      <th></th>\n",
       "      <th></th>\n",
       "      <th></th>\n",
       "      <th></th>\n",
       "    </tr>\n",
       "  </thead>\n",
       "  <tbody>\n",
       "    <tr>\n",
       "      <th>8429</th>\n",
       "      <th>金麗-KY</th>\n",
       "      <td>10.45</td>\n",
       "      <td>1.30</td>\n",
       "      <td>0.030</td>\n",
       "      <td>0.0</td>\n",
       "    </tr>\n",
       "    <tr>\n",
       "      <th>5907</th>\n",
       "      <th>大洋-KY</th>\n",
       "      <td>14.30</td>\n",
       "      <td>-11.50</td>\n",
       "      <td>0.978</td>\n",
       "      <td>2.0</td>\n",
       "    </tr>\n",
       "    <tr>\n",
       "      <th>2603</th>\n",
       "      <th>長榮</th>\n",
       "      <td>102.00</td>\n",
       "      <td>33.80</td>\n",
       "      <td>18.098</td>\n",
       "      <td>1.0</td>\n",
       "    </tr>\n",
       "    <tr>\n",
       "      <th>2929</th>\n",
       "      <th>淘帝-KY</th>\n",
       "      <td>10.90</td>\n",
       "      <td>10.82</td>\n",
       "      <td>0.660</td>\n",
       "      <td>0.0</td>\n",
       "    </tr>\n",
       "    <tr>\n",
       "      <th>1340</th>\n",
       "      <th>勝悅-KY</th>\n",
       "      <td>12.45</td>\n",
       "      <td>24.80</td>\n",
       "      <td>0.040</td>\n",
       "      <td>1.0</td>\n",
       "    </tr>\n",
       "    <tr>\n",
       "      <th>...</th>\n",
       "      <th>...</th>\n",
       "      <td>...</td>\n",
       "      <td>...</td>\n",
       "      <td>...</td>\n",
       "      <td>...</td>\n",
       "    </tr>\n",
       "    <tr>\n",
       "      <th>3089</th>\n",
       "      <th>億杰</th>\n",
       "      <td>NaN</td>\n",
       "      <td>0.00</td>\n",
       "      <td>NaN</td>\n",
       "      <td>0.0</td>\n",
       "    </tr>\n",
       "    <tr>\n",
       "      <th>9110</th>\n",
       "      <th>越南控-DR</th>\n",
       "      <td>NaN</td>\n",
       "      <td>NaN</td>\n",
       "      <td>0.000</td>\n",
       "      <td>0.0</td>\n",
       "    </tr>\n",
       "    <tr>\n",
       "      <th>911622</th>\n",
       "      <th>泰聚亨-DR</th>\n",
       "      <td>NaN</td>\n",
       "      <td>NaN</td>\n",
       "      <td>0.000</td>\n",
       "      <td>0.0</td>\n",
       "    </tr>\n",
       "    <tr>\n",
       "      <th>911868</th>\n",
       "      <th>同方友友-DR</th>\n",
       "      <td>NaN</td>\n",
       "      <td>NaN</td>\n",
       "      <td>0.000</td>\n",
       "      <td>0.0</td>\n",
       "    </tr>\n",
       "    <tr>\n",
       "      <th>912000</th>\n",
       "      <th>晨訊科-DR</th>\n",
       "      <td>NaN</td>\n",
       "      <td>NaN</td>\n",
       "      <td>0.020</td>\n",
       "      <td>0.0</td>\n",
       "    </tr>\n",
       "  </tbody>\n",
       "</table>\n",
       "<p>2087 rows × 4 columns</p>\n",
       "</div>"
      ],
      "text/plain": [
       "                    成交  平均配息率    平均股息  符合個數\n",
       "代號     名稱                                  \n",
       "8429   金麗-KY     10.45   1.30   0.030   0.0\n",
       "5907   大洋-KY     14.30 -11.50   0.978   2.0\n",
       "2603   長榮       102.00  33.80  18.098   1.0\n",
       "2929   淘帝-KY     10.90  10.82   0.660   0.0\n",
       "1340   勝悅-KY     12.45  24.80   0.040   1.0\n",
       "...                ...    ...     ...   ...\n",
       "3089   億杰          NaN   0.00     NaN   0.0\n",
       "9110   越南控-DR      NaN    NaN   0.000   0.0\n",
       "911622 泰聚亨-DR      NaN    NaN   0.000   0.0\n",
       "911868 同方友友-DR     NaN    NaN   0.000   0.0\n",
       "912000 晨訊科-DR      NaN    NaN   0.020   0.0\n",
       "\n",
       "[2087 rows x 4 columns]"
      ]
     },
     "execution_count": 7,
     "metadata": {},
     "output_type": "execute_result"
    }
   ],
   "source": [
    "pd.concat([todayPrice,lastNMeans(dividendRatio,'平均配息率'),lastNMeans(cash,'平均股息'),countConditionNum(dividendRatio)],axis=1)"
   ]
  },
  {
   "cell_type": "code",
   "execution_count": 33,
   "id": "b5339129",
   "metadata": {},
   "outputs": [
    {
     "name": "stdout",
     "output_type": "stream",
     "text": [
      "代號    名稱 \n",
      "2454  聯發科    103.156\n",
      "2603  長榮      40.560\n",
      "6669  緯穎      59.356\n",
      "3008  大立光     46.712\n",
      "5274  信驊      88.404\n",
      "              ...   \n",
      "9934  成霖      33.192\n",
      "9945  潤泰新     56.836\n",
      "9949  琉園       0.000\n",
      "9950  萬國通      0.000\n",
      "9955  佳龍       0.000\n",
      "Name: 近期平均, Length: 2086, dtype: float64\n"
     ]
    }
   ],
   "source": [
    "print(lastNMeans(dividendRatio))"
   ]
  },
  {
   "cell_type": "code",
   "execution_count": 7,
   "id": "9b339acd",
   "metadata": {},
   "outputs": [
    {
     "name": "stdout",
     "output_type": "stream",
     "text": [
      "        排名       代號   名稱       成交    漲跌價   漲跌幅   EPS平均    EPS合計   股利平均  \\\n",
      "0        1  =\"2454\"  聯發科   692.00  12.00  1.76   26.85   322.10  24.25   \n",
      "1        2  =\"2603\"   長榮    96.50   0.60  0.63   11.31   135.70   7.62   \n",
      "2        3  =\"6669\"   緯穎  1945.00  75.00  4.01   44.32   265.90  25.34   \n",
      "3        4  =\"3008\"  大立光  2310.00 -95.00 -3.95  143.68  1724.00  58.93   \n",
      "4        5  =\"5274\"   信驊  2440.00  90.00  3.83   19.83   237.90  17.24   \n",
      "...    ...      ...  ...      ...    ...   ...     ...      ...    ...   \n",
      "2081  2082  =\"9934\"   成霖    13.35   0.00  0.00    0.85    10.15   0.72   \n",
      "2082  2083  =\"9945\"  潤泰新    35.55   0.35  0.99    7.86    94.37   3.09   \n",
      "2083  2084  =\"9949\"   琉園    16.20  -0.30 -1.82   -0.32    -3.87   0.21   \n",
      "2084  2085  =\"9950\"  萬國通    17.40  -0.40 -2.25   -0.68    -8.16   0.47   \n",
      "2085  2086  =\"9955\"   佳龍    23.50   0.40  1.73   -0.75    -8.94   0.02   \n",
      "\n",
      "        股利合計  ...  2014分配率  2015分配率  2016分配率  2017分配率  2018分配率  2019分配率  \\\n",
      "0     291.00  ...     73.1     73.2     66.3     62.7     64.3     67.9   \n",
      "1      91.39  ...      0.0     59.8      0.0      0.0     35.5      0.0   \n",
      "2     152.00  ...      NaN      NaN      NaN      NaN     51.7     42.1   \n",
      "3     707.20  ...     39.8     35.2     35.3     37.5     37.4     37.4   \n",
      "4     206.90  ...     87.9     84.0     74.1     85.3     95.5     89.1   \n",
      "...      ...  ...      ...      ...      ...      ...      ...      ...   \n",
      "2081    8.68  ...     15.7    114.0     84.5    -74.8     75.7     76.8   \n",
      "2082   37.11  ...     15.2     70.2      0.0     33.9     28.9     27.7   \n",
      "2083    2.55  ...    231.0   1500.0      0.0      0.0      0.0      0.0   \n",
      "2084    5.70  ...     89.6     70.0     89.7     68.2      0.0      0.0   \n",
      "2085    0.30  ...      0.0      0.0      0.0      0.0      0.0      0.0   \n",
      "\n",
      "      2020分配率  2021分配率  2022分配率  2023分配率  \n",
      "0        71.5    142.0    103.0    102.0  \n",
      "1         0.0     49.1     39.5     80.4  \n",
      "2        63.1     65.0     50.5     61.7  \n",
      "3        37.5     50.0     50.4     50.5  \n",
      "4        90.2     88.5     94.0     80.8  \n",
      "...       ...      ...      ...      ...  \n",
      "2081     63.8     61.7      0.0      0.0  \n",
      "2082     64.2     85.0     83.0      0.0  \n",
      "2083      0.0      0.0      0.0      0.0  \n",
      "2084      0.0      0.0      0.0      0.0  \n",
      "2085      0.0      0.0      0.0      0.0  \n",
      "\n",
      "[2086 rows x 23 columns]\n"
     ]
    }
   ],
   "source": [
    "print(dividendRatio)"
   ]
  },
  {
   "cell_type": "code",
   "execution_count": null,
   "id": "95bae567",
   "metadata": {},
   "outputs": [],
   "source": []
  }
 ],
 "metadata": {
  "kernelspec": {
   "display_name": "Python 3 (ipykernel)",
   "language": "python",
   "name": "python3"
  },
  "language_info": {
   "codemirror_mode": {
    "name": "ipython",
    "version": 3
   },
   "file_extension": ".py",
   "mimetype": "text/x-python",
   "name": "python",
   "nbconvert_exporter": "python",
   "pygments_lexer": "ipython3",
   "version": "3.11.3"
  }
 },
 "nbformat": 4,
 "nbformat_minor": 5
}

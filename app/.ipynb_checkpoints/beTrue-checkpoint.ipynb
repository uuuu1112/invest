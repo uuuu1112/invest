{
 "cells": [
  {
   "cell_type": "code",
   "execution_count": 1,
   "id": "6a76809b",
   "metadata": {},
   "outputs": [],
   "source": [
    "from growth import *\n",
    "\n",
    "revenue=Revenue()\n",
    "stock=SeasonStock()\n",
    "\n",
    "shortGrowth=ShortGrowht(revenue,stock)"
   ]
  },
  {
   "cell_type": "code",
   "execution_count": 2,
   "id": "d565405d",
   "metadata": {},
   "outputs": [
    {
     "data": {
      "text/html": [
       "<div>\n",
       "<style scoped>\n",
       "    .dataframe tbody tr th:only-of-type {\n",
       "        vertical-align: middle;\n",
       "    }\n",
       "\n",
       "    .dataframe tbody tr th {\n",
       "        vertical-align: top;\n",
       "    }\n",
       "\n",
       "    .dataframe thead th {\n",
       "        text-align: right;\n",
       "    }\n",
       "</style>\n",
       "<table border=\"1\" class=\"dataframe\">\n",
       "  <thead>\n",
       "    <tr style=\"text-align: right;\">\n",
       "      <th></th>\n",
       "      <th></th>\n",
       "      <th>營收MoM</th>\n",
       "      <th>營收YoY</th>\n",
       "      <th>3個月營收MoM</th>\n",
       "      <th>3個月營收YoY</th>\n",
       "      <th>存貨QoQ</th>\n",
       "      <th>存貨YoY</th>\n",
       "    </tr>\n",
       "    <tr>\n",
       "      <th>代號</th>\n",
       "      <th>名稱</th>\n",
       "      <th></th>\n",
       "      <th></th>\n",
       "      <th></th>\n",
       "      <th></th>\n",
       "      <th></th>\n",
       "      <th></th>\n",
       "    </tr>\n",
       "  </thead>\n",
       "  <tbody>\n",
       "    <tr>\n",
       "      <th>2330</th>\n",
       "      <th>台積電</th>\n",
       "      <td>13.55%</td>\n",
       "      <td>-4.93%</td>\n",
       "      <td>5.75%</td>\n",
       "      <td>-11.09%</td>\n",
       "      <td>-2.26%</td>\n",
       "      <td>8.00%</td>\n",
       "    </tr>\n",
       "    <tr>\n",
       "      <th>2454</th>\n",
       "      <th>聯發科</th>\n",
       "      <td>-16.75%</td>\n",
       "      <td>-22.25%</td>\n",
       "      <td>11.66%</td>\n",
       "      <td>-22.74%</td>\n",
       "      <td>-1.98%</td>\n",
       "      <td>-22.48%</td>\n",
       "    </tr>\n",
       "  </tbody>\n",
       "</table>\n",
       "</div>"
      ],
      "text/plain": [
       "            營收MoM    營收YoY 3個月營收MoM 3個月營收YoY   存貨QoQ    存貨YoY\n",
       "代號   名稱                                                      \n",
       "2330 台積電   13.55%   -4.93%    5.75%  -11.09%  -2.26%    8.00%\n",
       "2454 聯發科  -16.75%  -22.25%   11.66%  -22.74%  -1.98%  -22.48%"
      ]
     },
     "execution_count": 2,
     "metadata": {},
     "output_type": "execute_result"
    }
   ],
   "source": [
    "shortGrowth.allGrowth().loc[['2330','2454']]"
   ]
  },
  {
   "cell_type": "code",
   "execution_count": null,
   "id": "3e4abc0c",
   "metadata": {},
   "outputs": [],
   "source": []
  }
 ],
 "metadata": {
  "kernelspec": {
   "display_name": "Python 3 (ipykernel)",
   "language": "python",
   "name": "python3"
  },
  "language_info": {
   "codemirror_mode": {
    "name": "ipython",
    "version": 3
   },
   "file_extension": ".py",
   "mimetype": "text/x-python",
   "name": "python",
   "nbconvert_exporter": "python",
   "pygments_lexer": "ipython3",
   "version": "3.9.7"
  }
 },
 "nbformat": 4,
 "nbformat_minor": 5
}
